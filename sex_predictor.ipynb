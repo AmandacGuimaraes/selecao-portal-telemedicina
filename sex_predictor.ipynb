{
 "cells": [
  {
   "cell_type": "markdown",
   "id": "e8b2cd7e",
   "metadata": {},
   "source": [
    "# Modelo de Previsão de Sexo do Pacientes"
   ]
  },
  {
   "cell_type": "markdown",
   "id": "c8aaccb5",
   "metadata": {},
   "source": [
    "## Test - Data Scientist (profile statistician)"
   ]
  },
  {
   "cell_type": "markdown",
   "id": "0aacba70",
   "metadata": {},
   "source": [
    "### Amanda Cristina da Costa Guimaraes"
   ]
  },
  {
   "cell_type": "code",
   "execution_count": 1,
   "id": "05e31c61",
   "metadata": {},
   "outputs": [
    {
     "name": "stdout",
     "output_type": "stream",
     "text": [
      "Requirement already satisfied: graphviz in c:\\users\\amanda\\anaconda3\\lib\\site-packages (0.20.1)\n"
     ]
    },
    {
     "name": "stderr",
     "output_type": "stream",
     "text": [
      "'graphviz' não é reconhecido como um comando interno\n",
      "ou externo, um programa operável ou um arquivo em lotes.\n"
     ]
    }
   ],
   "source": [
    "!pip install graphviz\n",
    "!graphviz"
   ]
  },
  {
   "cell_type": "code",
   "execution_count": 2,
   "id": "e646f2f8",
   "metadata": {},
   "outputs": [],
   "source": [
    "import pandas as pd\n",
    "import numpy as np"
   ]
  },
  {
   "cell_type": "code",
   "execution_count": 3,
   "id": "1ca6a223",
   "metadata": {},
   "outputs": [],
   "source": [
    "df = pd.read_csv('test_data_CANDIDATE.csv')"
   ]
  },
  {
   "cell_type": "markdown",
   "id": "d6520263",
   "metadata": {},
   "source": [
    "Vamos ler o arquivo csv e transformar em um dataframe"
   ]
  },
  {
   "cell_type": "code",
   "execution_count": 4,
   "id": "c216c108",
   "metadata": {},
   "outputs": [],
   "source": [
    "df['sex'] = df['sex'].replace('M', 0)"
   ]
  },
  {
   "cell_type": "code",
   "execution_count": 5,
   "id": "4bb85f6e",
   "metadata": {},
   "outputs": [],
   "source": [
    "df['sex'] = df['sex'].replace('m', 0)"
   ]
  },
  {
   "cell_type": "code",
   "execution_count": 6,
   "id": "11ef420a",
   "metadata": {},
   "outputs": [],
   "source": [
    "df['sex'] = df['sex'].replace('F', 1)"
   ]
  },
  {
   "cell_type": "code",
   "execution_count": 7,
   "id": "6f8227f9",
   "metadata": {},
   "outputs": [],
   "source": [
    "df['sex'] = df['sex'].replace('f', 1)"
   ]
  },
  {
   "cell_type": "markdown",
   "id": "c40a6793",
   "metadata": {},
   "source": [
    "Vamos converter os dados de sexo para 0 e 1 sendo:\n",
    "    - masculino (M) = 0\n",
    "    - feminino (F) = 1"
   ]
  },
  {
   "cell_type": "code",
   "execution_count": 8,
   "id": "52ccedaa",
   "metadata": {},
   "outputs": [
    {
     "data": {
      "text/plain": [
       "1    196\n",
       "0     92\n",
       "Name: sex, dtype: int64"
      ]
     },
     "execution_count": 8,
     "metadata": {},
     "output_type": "execute_result"
    }
   ],
   "source": [
    "df['sex'].value_counts()"
   ]
  },
  {
   "cell_type": "markdown",
   "id": "10483b98",
   "metadata": {},
   "source": [
    "Após a transformação dos dados temos em nosso dataframe:\n",
    "- 92 pacientes do sexo masculino \n",
    "- 196 pacientes do sexo feminino"
   ]
  },
  {
   "cell_type": "markdown",
   "id": "dd656f13",
   "metadata": {},
   "source": [
    "Vamos define os valores do dataframe \"X\" e \"Y\" sendo:\n",
    "- X = Cor do cabelo (hc) e Cor da pele (sk)\n",
    "- Y = Sexo (sex)"
   ]
  },
  {
   "cell_type": "code",
   "execution_count": 9,
   "id": "e0746d6f",
   "metadata": {},
   "outputs": [],
   "source": [
    "x = df[['hc', 'sk']] \n",
    "y = df[['sex']]"
   ]
  },
  {
   "cell_type": "markdown",
   "id": "1e553033",
   "metadata": {},
   "source": [
    "Verificando como está o x."
   ]
  },
  {
   "cell_type": "code",
   "execution_count": 10,
   "id": "69c93dfc",
   "metadata": {},
   "outputs": [
    {
     "data": {
      "text/html": [
       "<div>\n",
       "<style scoped>\n",
       "    .dataframe tbody tr th:only-of-type {\n",
       "        vertical-align: middle;\n",
       "    }\n",
       "\n",
       "    .dataframe tbody tr th {\n",
       "        vertical-align: top;\n",
       "    }\n",
       "\n",
       "    .dataframe thead th {\n",
       "        text-align: right;\n",
       "    }\n",
       "</style>\n",
       "<table border=\"1\" class=\"dataframe\">\n",
       "  <thead>\n",
       "    <tr style=\"text-align: right;\">\n",
       "      <th></th>\n",
       "      <th>hc</th>\n",
       "      <th>sk</th>\n",
       "    </tr>\n",
       "  </thead>\n",
       "  <tbody>\n",
       "    <tr>\n",
       "      <th>0</th>\n",
       "      <td>0</td>\n",
       "      <td>1</td>\n",
       "    </tr>\n",
       "    <tr>\n",
       "      <th>1</th>\n",
       "      <td>1</td>\n",
       "      <td>3</td>\n",
       "    </tr>\n",
       "    <tr>\n",
       "      <th>2</th>\n",
       "      <td>0</td>\n",
       "      <td>1</td>\n",
       "    </tr>\n",
       "    <tr>\n",
       "      <th>3</th>\n",
       "      <td>1</td>\n",
       "      <td>0</td>\n",
       "    </tr>\n",
       "    <tr>\n",
       "      <th>4</th>\n",
       "      <td>1</td>\n",
       "      <td>0</td>\n",
       "    </tr>\n",
       "  </tbody>\n",
       "</table>\n",
       "</div>"
      ],
      "text/plain": [
       "   hc  sk\n",
       "0   0   1\n",
       "1   1   3\n",
       "2   0   1\n",
       "3   1   0\n",
       "4   1   0"
      ]
     },
     "execution_count": 10,
     "metadata": {},
     "output_type": "execute_result"
    }
   ],
   "source": [
    "x.head()"
   ]
  },
  {
   "cell_type": "markdown",
   "id": "49995647",
   "metadata": {},
   "source": [
    "Verificando como está o y."
   ]
  },
  {
   "cell_type": "code",
   "execution_count": 11,
   "id": "b89c51c8",
   "metadata": {},
   "outputs": [
    {
     "data": {
      "text/html": [
       "<div>\n",
       "<style scoped>\n",
       "    .dataframe tbody tr th:only-of-type {\n",
       "        vertical-align: middle;\n",
       "    }\n",
       "\n",
       "    .dataframe tbody tr th {\n",
       "        vertical-align: top;\n",
       "    }\n",
       "\n",
       "    .dataframe thead th {\n",
       "        text-align: right;\n",
       "    }\n",
       "</style>\n",
       "<table border=\"1\" class=\"dataframe\">\n",
       "  <thead>\n",
       "    <tr style=\"text-align: right;\">\n",
       "      <th></th>\n",
       "      <th>sex</th>\n",
       "    </tr>\n",
       "  </thead>\n",
       "  <tbody>\n",
       "    <tr>\n",
       "      <th>0</th>\n",
       "      <td>0</td>\n",
       "    </tr>\n",
       "    <tr>\n",
       "      <th>1</th>\n",
       "      <td>1</td>\n",
       "    </tr>\n",
       "    <tr>\n",
       "      <th>2</th>\n",
       "      <td>1</td>\n",
       "    </tr>\n",
       "    <tr>\n",
       "      <th>3</th>\n",
       "      <td>1</td>\n",
       "    </tr>\n",
       "    <tr>\n",
       "      <th>4</th>\n",
       "      <td>1</td>\n",
       "    </tr>\n",
       "  </tbody>\n",
       "</table>\n",
       "</div>"
      ],
      "text/plain": [
       "   sex\n",
       "0    0\n",
       "1    1\n",
       "2    1\n",
       "3    1\n",
       "4    1"
      ]
     },
     "execution_count": 11,
     "metadata": {},
     "output_type": "execute_result"
    }
   ],
   "source": [
    "y.head()"
   ]
  },
  {
   "cell_type": "markdown",
   "id": "4a6e4421",
   "metadata": {},
   "source": [
    "### Para analisar essas classes eu vou precisar de aloritimos estimadores, e para isso existem as bibliotecas do Python como: sklearn\n",
    "\n",
    "Queremos criar um mecanismo que consiga estimar a classe desse tipo de dado. Para isso, usaremos algorítimos de machine learning, data analysis e estatística que estão armazenados nas diversas bibliotecas do Python. A que usaremos se chama Scikit Learn.\n",
    "\n",
    "Do módulo sklearn.svm, importaremos um estimador chamado LinearSVC. Posteriomente, entraremos em mais detalhes sobre alguns estimadores existentes e o que cada um é capaz de realizar. Por enquanto, usaremos esse estimador básico."
   ]
  },
  {
   "cell_type": "code",
   "execution_count": 12,
   "id": "59fcc8cf",
   "metadata": {},
   "outputs": [],
   "source": [
    "from sklearn.svm import LinearSVC\n",
    "model = LinearSVC()"
   ]
  },
  {
   "cell_type": "code",
   "execution_count": 13,
   "id": "7d86fcc6",
   "metadata": {},
   "outputs": [],
   "source": [
    "treino_x = x[:75]\n",
    "treino_y = y[:75]"
   ]
  },
  {
   "cell_type": "markdown",
   "id": "f1f7fcff",
   "metadata": {},
   "source": [
    "### Treina a IA"
   ]
  },
  {
   "cell_type": "code",
   "execution_count": 14,
   "id": "5f0a5fd2",
   "metadata": {},
   "outputs": [],
   "source": [
    "from sklearn.svm import LinearSVC"
   ]
  },
  {
   "cell_type": "code",
   "execution_count": 15,
   "id": "f2ce2a07",
   "metadata": {},
   "outputs": [],
   "source": [
    "from sklearn.metrics import accuracy_score"
   ]
  },
  {
   "cell_type": "code",
   "execution_count": 16,
   "id": "67197666",
   "metadata": {},
   "outputs": [
    {
     "name": "stdout",
     "output_type": "stream",
     "text": [
      "Treinaremos com 75 elementos e testaremos com 213 elementos\n"
     ]
    }
   ],
   "source": [
    "treino_x = x[:75]\n",
    "treino_y = y[:75]\n",
    "teste_x = x[75:]\n",
    "teste_y = y[75:]\n",
    "teste_y.shape\n",
    "\n",
    "print(\"Treinaremos com %d elementos e testaremos com %d elementos\" % (len(treino_x), len(teste_x)))"
   ]
  },
  {
   "cell_type": "markdown",
   "id": "22be7f01",
   "metadata": {},
   "source": [
    "Primeiramente, com df.shape verificaremos quantos elementos temos nos dados e o formato deles:"
   ]
  },
  {
   "cell_type": "code",
   "execution_count": 17,
   "id": "81632f2a",
   "metadata": {},
   "outputs": [
    {
     "data": {
      "text/plain": [
       "(288, 18)"
      ]
     },
     "execution_count": 17,
     "metadata": {},
     "output_type": "execute_result"
    }
   ],
   "source": [
    "df.shape"
   ]
  },
  {
   "cell_type": "markdown",
   "id": "5d62504f",
   "metadata": {},
   "source": [
    "Veremos que em nosso arquivo há 288 linhas e 18 colunas. Separaremos em média 25% para testar o algorítimo, e o restante (cerca de 75% dos dados) para o treinamento. Portanto, para treino_x, coletaremos os primeiros 75 elementos (treino_x = x[:75]). Podemos utilizar treino_x.shape para verificar se o número de elementos está de fato correto:"
   ]
  },
  {
   "cell_type": "code",
   "execution_count": 18,
   "id": "f49ee45d",
   "metadata": {},
   "outputs": [],
   "source": [
    "treino_x = x[:75]\n",
    "treino_y = y[:75]"
   ]
  },
  {
   "cell_type": "markdown",
   "id": "0713446f",
   "metadata": {},
   "source": [
    "Para confirmarmos se as matrizes estão com a quantidade correta de elementos, acionaremos teste_y.shape. Por fim, registraremos essas informações imprimindo o tamanho (len()) de treino_x e treino_y utilizando print()."
   ]
  },
  {
   "cell_type": "code",
   "execution_count": 19,
   "id": "e4a92ec4",
   "metadata": {},
   "outputs": [
    {
     "name": "stdout",
     "output_type": "stream",
     "text": [
      "Treinaremos com 75 elementos e testaremos com 213 elementos\n"
     ]
    }
   ],
   "source": [
    "treino_x = x[:75]\n",
    "treino_y = y[:75]\n",
    "teste_x = x[75:]\n",
    "teste_y = y[75:]\n",
    "teste_y.shape\n",
    "\n",
    "print(\"Treinaremos com %d elementos e testaremos com %d elementos\" % (len(treino_x), len(teste_x)))"
   ]
  },
  {
   "cell_type": "markdown",
   "id": "257a6753",
   "metadata": {},
   "source": [
    "Para treinarmos e executarmos o algorítimo usaremos a motodologia  do sklearn.svm importaremos LinearSVC, e treinaremos o modelo com os dados treino_x e treino_y."
   ]
  },
  {
   "cell_type": "code",
   "execution_count": 20,
   "id": "df1e1de7",
   "metadata": {},
   "outputs": [
    {
     "name": "stderr",
     "output_type": "stream",
     "text": [
      "C:\\Users\\Amanda\\anaconda3\\lib\\site-packages\\sklearn\\utils\\validation.py:993: DataConversionWarning: A column-vector y was passed when a 1d array was expected. Please change the shape of y to (n_samples, ), for example using ravel().\n",
      "  y = column_or_1d(y, warn=True)\n"
     ]
    },
    {
     "data": {
      "text/plain": [
       "LinearSVC()"
      ]
     },
     "execution_count": 20,
     "metadata": {},
     "output_type": "execute_result"
    }
   ],
   "source": [
    "from sklearn.svm import LinearSVC\n",
    "\n",
    "modelo = LinearSVC()\n",
    "modelo.fit(treino_x, treino_y)"
   ]
  },
  {
   "cell_type": "code",
   "execution_count": 21,
   "id": "58b64608",
   "metadata": {},
   "outputs": [
    {
     "name": "stdout",
     "output_type": "stream",
     "text": [
      "A acurácia foi 63.38%\n"
     ]
    },
    {
     "name": "stderr",
     "output_type": "stream",
     "text": [
      "C:\\Users\\Amanda\\anaconda3\\lib\\site-packages\\sklearn\\utils\\validation.py:993: DataConversionWarning: A column-vector y was passed when a 1d array was expected. Please change the shape of y to (n_samples, ), for example using ravel().\n",
      "  y = column_or_1d(y, warn=True)\n"
     ]
    }
   ],
   "source": [
    "from sklearn.svm import LinearSVC\n",
    "from sklearn.metrics import accuracy_score\n",
    "\n",
    "modelo = LinearSVC()\n",
    "modelo.fit(treino_x, treino_y)\n",
    "previsoes = modelo.predict(teste_x)\n",
    "\n",
    "acuracia = accuracy_score(teste_y, previsoes) * 100\n",
    "print(\"A acurácia foi %.2f%%\" % acuracia)"
   ]
  },
  {
   "cell_type": "markdown",
   "id": "0b729438",
   "metadata": {},
   "source": [
    "### Testa o Modelo"
   ]
  },
  {
   "cell_type": "code",
   "execution_count": 22,
   "id": "a4ff3654",
   "metadata": {},
   "outputs": [],
   "source": [
    "previsões = modelo.predict(teste_x)"
   ]
  },
  {
   "cell_type": "markdown",
   "id": "29f6032a",
   "metadata": {},
   "source": []
  }
 ],
 "metadata": {
  "kernelspec": {
   "display_name": "Python 3 (ipykernel)",
   "language": "python",
   "name": "python3"
  },
  "language_info": {
   "codemirror_mode": {
    "name": "ipython",
    "version": 3
   },
   "file_extension": ".py",
   "mimetype": "text/x-python",
   "name": "python",
   "nbconvert_exporter": "python",
   "pygments_lexer": "ipython3",
   "version": "3.9.12"
  }
 },
 "nbformat": 4,
 "nbformat_minor": 5
}
