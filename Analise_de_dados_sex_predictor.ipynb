{
 "cells": [
  {
   "cell_type": "markdown",
   "id": "26b57e73",
   "metadata": {},
   "source": [
    " # Test - Data Scientist (profile statistician)"
   ]
  },
  {
   "cell_type": "markdown",
   "id": "f0e7b8ba",
   "metadata": {},
   "source": [
    "## Análise descritiva dos dados da tabela "
   ]
  },
  {
   "cell_type": "markdown",
   "id": "5555682a",
   "metadata": {},
   "source": [
    "### Amanda Cristina da Costa Guimarães"
   ]
  },
  {
   "cell_type": "markdown",
   "id": "fd19a78d",
   "metadata": {},
   "source": [
    "1) Analyzing the data"
   ]
  },
  {
   "cell_type": "code",
   "execution_count": 1,
   "id": "36c30cde",
   "metadata": {},
   "outputs": [],
   "source": [
    "import pandas as pd\n",
    "import numpy as np\n",
    "import seaborn as sns"
   ]
  },
  {
   "cell_type": "code",
   "execution_count": 2,
   "id": "a6f7bd31",
   "metadata": {},
   "outputs": [],
   "source": [
    "dados = pd.read_csv('test_data_CANDIDATE.csv')"
   ]
  },
  {
   "cell_type": "code",
   "execution_count": 3,
   "id": "4b6d873c",
   "metadata": {},
   "outputs": [
    {
     "data": {
      "text/html": [
       "<div>\n",
       "<style scoped>\n",
       "    .dataframe tbody tr th:only-of-type {\n",
       "        vertical-align: middle;\n",
       "    }\n",
       "\n",
       "    .dataframe tbody tr th {\n",
       "        vertical-align: top;\n",
       "    }\n",
       "\n",
       "    .dataframe thead th {\n",
       "        text-align: right;\n",
       "    }\n",
       "</style>\n",
       "<table border=\"1\" class=\"dataframe\">\n",
       "  <thead>\n",
       "    <tr style=\"text-align: right;\">\n",
       "      <th></th>\n",
       "      <th>index</th>\n",
       "      <th>age</th>\n",
       "      <th>sex</th>\n",
       "      <th>cp</th>\n",
       "      <th>trestbps</th>\n",
       "      <th>chol</th>\n",
       "      <th>fbs</th>\n",
       "      <th>restecg</th>\n",
       "      <th>thalach</th>\n",
       "      <th>exang</th>\n",
       "      <th>oldpeak</th>\n",
       "      <th>slope</th>\n",
       "      <th>ca</th>\n",
       "      <th>thal</th>\n",
       "      <th>nar</th>\n",
       "      <th>hc</th>\n",
       "      <th>sk</th>\n",
       "      <th>trf</th>\n",
       "    </tr>\n",
       "  </thead>\n",
       "  <tbody>\n",
       "    <tr>\n",
       "      <th>0</th>\n",
       "      <td>0</td>\n",
       "      <td>49</td>\n",
       "      <td>M</td>\n",
       "      <td>10000</td>\n",
       "      <td>130</td>\n",
       "      <td>269.0</td>\n",
       "      <td>0</td>\n",
       "      <td>1</td>\n",
       "      <td>163</td>\n",
       "      <td>0</td>\n",
       "      <td>0.0</td>\n",
       "      <td>2.0</td>\n",
       "      <td>0</td>\n",
       "      <td>2</td>\n",
       "      <td>2</td>\n",
       "      <td>0</td>\n",
       "      <td>1</td>\n",
       "      <td>6797.761892</td>\n",
       "    </tr>\n",
       "    <tr>\n",
       "      <th>1</th>\n",
       "      <td>1</td>\n",
       "      <td>61</td>\n",
       "      <td>F</td>\n",
       "      <td>10000</td>\n",
       "      <td>138</td>\n",
       "      <td>166.0</td>\n",
       "      <td>0</td>\n",
       "      <td>0</td>\n",
       "      <td>125</td>\n",
       "      <td>1</td>\n",
       "      <td>3.6</td>\n",
       "      <td>NaN</td>\n",
       "      <td>1</td>\n",
       "      <td>2</td>\n",
       "      <td>2</td>\n",
       "      <td>1</td>\n",
       "      <td>3</td>\n",
       "      <td>4307.686943</td>\n",
       "    </tr>\n",
       "    <tr>\n",
       "      <th>2</th>\n",
       "      <td>2</td>\n",
       "      <td>46</td>\n",
       "      <td>F</td>\n",
       "      <td>10000</td>\n",
       "      <td>140</td>\n",
       "      <td>311.0</td>\n",
       "      <td>0</td>\n",
       "      <td>1</td>\n",
       "      <td>120</td>\n",
       "      <td>1</td>\n",
       "      <td>1.8</td>\n",
       "      <td>NaN</td>\n",
       "      <td>2</td>\n",
       "      <td>3</td>\n",
       "      <td>2</td>\n",
       "      <td>0</td>\n",
       "      <td>1</td>\n",
       "      <td>4118.077502</td>\n",
       "    </tr>\n",
       "    <tr>\n",
       "      <th>3</th>\n",
       "      <td>3</td>\n",
       "      <td>69</td>\n",
       "      <td>F</td>\n",
       "      <td>10000</td>\n",
       "      <td>140</td>\n",
       "      <td>254.0</td>\n",
       "      <td>0</td>\n",
       "      <td>0</td>\n",
       "      <td>146</td>\n",
       "      <td>0</td>\n",
       "      <td>2.0</td>\n",
       "      <td>1.0</td>\n",
       "      <td>3</td>\n",
       "      <td>3</td>\n",
       "      <td>2</td>\n",
       "      <td>1</td>\n",
       "      <td>0</td>\n",
       "      <td>7170.849469</td>\n",
       "    </tr>\n",
       "    <tr>\n",
       "      <th>4</th>\n",
       "      <td>4</td>\n",
       "      <td>51</td>\n",
       "      <td>F</td>\n",
       "      <td>10000</td>\n",
       "      <td>100</td>\n",
       "      <td>222.0</td>\n",
       "      <td>0</td>\n",
       "      <td>1</td>\n",
       "      <td>143</td>\n",
       "      <td>1</td>\n",
       "      <td>1.2</td>\n",
       "      <td>1.0</td>\n",
       "      <td>0</td>\n",
       "      <td>2</td>\n",
       "      <td>2</td>\n",
       "      <td>1</td>\n",
       "      <td>0</td>\n",
       "      <td>5579.040145</td>\n",
       "    </tr>\n",
       "    <tr>\n",
       "      <th>...</th>\n",
       "      <td>...</td>\n",
       "      <td>...</td>\n",
       "      <td>...</td>\n",
       "      <td>...</td>\n",
       "      <td>...</td>\n",
       "      <td>...</td>\n",
       "      <td>...</td>\n",
       "      <td>...</td>\n",
       "      <td>...</td>\n",
       "      <td>...</td>\n",
       "      <td>...</td>\n",
       "      <td>...</td>\n",
       "      <td>...</td>\n",
       "      <td>...</td>\n",
       "      <td>...</td>\n",
       "      <td>...</td>\n",
       "      <td>...</td>\n",
       "      <td>...</td>\n",
       "    </tr>\n",
       "    <tr>\n",
       "      <th>283</th>\n",
       "      <td>283</td>\n",
       "      <td>54</td>\n",
       "      <td>F</td>\n",
       "      <td>10000</td>\n",
       "      <td>125</td>\n",
       "      <td>273.0</td>\n",
       "      <td>0</td>\n",
       "      <td>0</td>\n",
       "      <td>152</td>\n",
       "      <td>0</td>\n",
       "      <td>0.5</td>\n",
       "      <td>0.0</td>\n",
       "      <td>1</td>\n",
       "      <td>2</td>\n",
       "      <td>2</td>\n",
       "      <td>2</td>\n",
       "      <td>0</td>\n",
       "      <td>6293.123474</td>\n",
       "    </tr>\n",
       "    <tr>\n",
       "      <th>284</th>\n",
       "      <td>284</td>\n",
       "      <td>42</td>\n",
       "      <td>F</td>\n",
       "      <td>10000</td>\n",
       "      <td>120</td>\n",
       "      <td>240.0</td>\n",
       "      <td>1</td>\n",
       "      <td>1</td>\n",
       "      <td>194</td>\n",
       "      <td>0</td>\n",
       "      <td>0.8</td>\n",
       "      <td>0.0</td>\n",
       "      <td>0</td>\n",
       "      <td>3</td>\n",
       "      <td>2</td>\n",
       "      <td>0</td>\n",
       "      <td>1</td>\n",
       "      <td>3303.841931</td>\n",
       "    </tr>\n",
       "    <tr>\n",
       "      <th>285</th>\n",
       "      <td>285</td>\n",
       "      <td>67</td>\n",
       "      <td>M</td>\n",
       "      <td>10000</td>\n",
       "      <td>106</td>\n",
       "      <td>223.0</td>\n",
       "      <td>0</td>\n",
       "      <td>1</td>\n",
       "      <td>142</td>\n",
       "      <td>0</td>\n",
       "      <td>0.3</td>\n",
       "      <td>NaN</td>\n",
       "      <td>2</td>\n",
       "      <td>2</td>\n",
       "      <td>2</td>\n",
       "      <td>1</td>\n",
       "      <td>0</td>\n",
       "      <td>3383.029119</td>\n",
       "    </tr>\n",
       "    <tr>\n",
       "      <th>286</th>\n",
       "      <td>286</td>\n",
       "      <td>67</td>\n",
       "      <td>F</td>\n",
       "      <td>10000</td>\n",
       "      <td>125</td>\n",
       "      <td>254.0</td>\n",
       "      <td>1</td>\n",
       "      <td>1</td>\n",
       "      <td>163</td>\n",
       "      <td>0</td>\n",
       "      <td>0.2</td>\n",
       "      <td>1.0</td>\n",
       "      <td>2</td>\n",
       "      <td>3</td>\n",
       "      <td>2</td>\n",
       "      <td>0</td>\n",
       "      <td>2</td>\n",
       "      <td>768.900795</td>\n",
       "    </tr>\n",
       "    <tr>\n",
       "      <th>287</th>\n",
       "      <td>287</td>\n",
       "      <td>60</td>\n",
       "      <td>F</td>\n",
       "      <td>10000</td>\n",
       "      <td>130</td>\n",
       "      <td>253.0</td>\n",
       "      <td>0</td>\n",
       "      <td>1</td>\n",
       "      <td>144</td>\n",
       "      <td>1</td>\n",
       "      <td>1.4</td>\n",
       "      <td>NaN</td>\n",
       "      <td>1</td>\n",
       "      <td>3</td>\n",
       "      <td>2</td>\n",
       "      <td>0</td>\n",
       "      <td>0</td>\n",
       "      <td>1508.832825</td>\n",
       "    </tr>\n",
       "  </tbody>\n",
       "</table>\n",
       "<p>288 rows × 18 columns</p>\n",
       "</div>"
      ],
      "text/plain": [
       "     index  age sex     cp  trestbps   chol  fbs  restecg  thalach  exang  \\\n",
       "0        0   49   M  10000       130  269.0    0        1      163      0   \n",
       "1        1   61   F  10000       138  166.0    0        0      125      1   \n",
       "2        2   46   F  10000       140  311.0    0        1      120      1   \n",
       "3        3   69   F  10000       140  254.0    0        0      146      0   \n",
       "4        4   51   F  10000       100  222.0    0        1      143      1   \n",
       "..     ...  ...  ..    ...       ...    ...  ...      ...      ...    ...   \n",
       "283    283   54   F  10000       125  273.0    0        0      152      0   \n",
       "284    284   42   F  10000       120  240.0    1        1      194      0   \n",
       "285    285   67   M  10000       106  223.0    0        1      142      0   \n",
       "286    286   67   F  10000       125  254.0    1        1      163      0   \n",
       "287    287   60   F  10000       130  253.0    0        1      144      1   \n",
       "\n",
       "     oldpeak  slope  ca  thal  nar  hc  sk          trf  \n",
       "0        0.0    2.0   0     2    2   0   1  6797.761892  \n",
       "1        3.6    NaN   1     2    2   1   3  4307.686943  \n",
       "2        1.8    NaN   2     3    2   0   1  4118.077502  \n",
       "3        2.0    1.0   3     3    2   1   0  7170.849469  \n",
       "4        1.2    1.0   0     2    2   1   0  5579.040145  \n",
       "..       ...    ...  ..   ...  ...  ..  ..          ...  \n",
       "283      0.5    0.0   1     2    2   2   0  6293.123474  \n",
       "284      0.8    0.0   0     3    2   0   1  3303.841931  \n",
       "285      0.3    NaN   2     2    2   1   0  3383.029119  \n",
       "286      0.2    1.0   2     3    2   0   2   768.900795  \n",
       "287      1.4    NaN   1     3    2   0   0  1508.832825  \n",
       "\n",
       "[288 rows x 18 columns]"
      ]
     },
     "execution_count": 3,
     "metadata": {},
     "output_type": "execute_result"
    }
   ],
   "source": [
    "dados"
   ]
  },
  {
   "cell_type": "code",
   "execution_count": 4,
   "id": "0f7ae796",
   "metadata": {},
   "outputs": [
    {
     "name": "stdout",
     "output_type": "stream",
     "text": [
      "<class 'pandas.core.frame.DataFrame'>\n",
      "RangeIndex: 288 entries, 0 to 287\n",
      "Data columns (total 18 columns):\n",
      " #   Column    Non-Null Count  Dtype  \n",
      "---  ------    --------------  -----  \n",
      " 0   index     288 non-null    int64  \n",
      " 1   age       288 non-null    int64  \n",
      " 2   sex       288 non-null    object \n",
      " 3   cp        288 non-null    int64  \n",
      " 4   trestbps  288 non-null    int64  \n",
      " 5   chol      272 non-null    float64\n",
      " 6   fbs       288 non-null    int64  \n",
      " 7   restecg   288 non-null    int64  \n",
      " 8   thalach   288 non-null    int64  \n",
      " 9   exang     288 non-null    int64  \n",
      " 10  oldpeak   288 non-null    float64\n",
      " 11  slope     145 non-null    float64\n",
      " 12  ca        288 non-null    int64  \n",
      " 13  thal      288 non-null    int64  \n",
      " 14  nar       288 non-null    int64  \n",
      " 15  hc        288 non-null    int64  \n",
      " 16  sk        288 non-null    int64  \n",
      " 17  trf       288 non-null    float64\n",
      "dtypes: float64(4), int64(13), object(1)\n",
      "memory usage: 40.6+ KB\n"
     ]
    }
   ],
   "source": [
    "dados.info()"
   ]
  },
  {
   "cell_type": "markdown",
   "id": "6364f600",
   "metadata": {},
   "source": [
    "### Analisando a idade minima e maxima do nosso grupo de estudo:"
   ]
  },
  {
   "cell_type": "code",
   "execution_count": 5,
   "id": "1d4d4d36",
   "metadata": {},
   "outputs": [
    {
     "data": {
      "image/png": "[encoded data removed]",
      "text/plain": [
       "<Figure size 432x288 with 1 Axes>"
      ]
     },
     "metadata": {
      "needs_background": "light"
     },
     "output_type": "display_data"
    }
   ],
   "source": [
    "sns.histplot(dados['age'], bins=30);"
   ]
  },
  {
   "cell_type": "code",
   "execution_count": 6,
   "id": "fb34f347",
   "metadata": {},
   "outputs": [
    {
     "data": {
      "text/plain": [
       "29"
      ]
     },
     "execution_count": 6,
     "metadata": {},
     "output_type": "execute_result"
    }
   ],
   "source": [
    "dados.age.min()"
   ]
  },
  {
   "cell_type": "code",
   "execution_count": 7,
   "id": "ef9235c7",
   "metadata": {},
   "outputs": [
    {
     "data": {
      "text/plain": [
       "77"
      ]
     },
     "execution_count": 7,
     "metadata": {},
     "output_type": "execute_result"
    }
   ],
   "source": [
    "dados.age.max()"
   ]
  },
  {
   "cell_type": "code",
   "execution_count": 8,
   "id": "cd03564c",
   "metadata": {},
   "outputs": [
    {
     "name": "stdout",
     "output_type": "stream",
     "text": [
      "De 29 até 77 anos\n"
     ]
    }
   ],
   "source": [
    "print('De %s até %s anos' % (dados.age.min(),dados.age.max())) "
   ]
  },
  {
   "cell_type": "markdown",
   "id": "5f92f1ca",
   "metadata": {},
   "source": [
    "### Descrição dos dados da tabela:"
   ]
  },
  {
   "cell_type": "markdown",
   "id": "09e24fe5",
   "metadata": {},
   "source": [
    "Na tabela podemos visualizar 288 pacientes sendo do sexo masculino e feminino, com idades variando de 29 a 77 anos, e dados medicos referentes a: tipo de dor no peito, pressão arterial de repouso, colesterol sérico, glicemia de jejum, resultados eletrocardiográficos em repouso, frequência cardíaca máxima alcançada, angina induzida por exercício, depressão do segmento ST induzida pelo exercício em relação ao repous,inclinação do pico do segmento ST do exercício. E dados descritivo de etinia do paciente: cor do cabelo do paciente e cor da pele do paciente."
   ]
  },
  {
   "cell_type": "code",
   "execution_count": 9,
   "id": "1633b431",
   "metadata": {},
   "outputs": [
    {
     "data": {
      "text/plain": [
       "index  age  sex  cp     trestbps  chol   fbs  restecg  thalach  exang  oldpeak  slope  ca  thal  nar  hc  sk  trf        \n",
       "0      49   M    10000  130       269.0  0    1        163      0      0.0      2.0    0   2     2    0   1   6797.761892    1\n",
       "169    51   M    10000  130       305.0  0    1        142      1      1.2      1.0    0   3     2    1   1   3602.725961    1\n",
       "207    54   F    10000  110       206.0  0    0        108      1      0.0      1.0    1   2     2    0   0   5917.085879    1\n",
       "201    55   F    10000  130       262.0  0    1        155      0      0.0      2.0    0   2     2    1   0   5243.761066    1\n",
       "199    43   F    10000  120       177.0  0    0        120      1      2.5      1.0    0   3     2    0   0   7060.280653    1\n",
       "                                                                                                                            ..\n",
       "84     42   M    10000  120       209.0  0    1        173      0      0.0      1.0    0   2     2    1   1   2307.109943    1\n",
       "81     61   F    10000  134       234.0  0    1        145      0      2.6      1.0    2   2     2    0   3   7383.123621    1\n",
       "79     62   M    10000  140       394.0  0    0        157      0      1.2      1.0    0   2     2    0   0   4270.421351    1\n",
       "78     52   F    10000  172       199.0  1    1        162      0      0.5      2.0    0   3     2    1   2   1163.752204    1\n",
       "286    67   F    10000  125       254.0  1    1        163      0      0.2      1.0    2   3     2    0   2   768.900795     1\n",
       "Length: 134, dtype: int64"
      ]
     },
     "execution_count": 9,
     "metadata": {},
     "output_type": "execute_result"
    }
   ],
   "source": [
    "dados.value_counts()"
   ]
  },
  {
   "cell_type": "code",
   "execution_count": 10,
   "id": "ba5bd01a",
   "metadata": {},
   "outputs": [
    {
     "data": {
      "text/plain": [
       "F    194\n",
       "M     91\n",
       "f      2\n",
       "m      1\n",
       "Name: sex, dtype: int64"
      ]
     },
     "execution_count": 10,
     "metadata": {},
     "output_type": "execute_result"
    }
   ],
   "source": [
    "dados['sex'].value_counts()"
   ]
  },
  {
   "cell_type": "markdown",
   "id": "1b449547",
   "metadata": {},
   "source": [
    "Em relação ao sexo temos: \n",
    "Feminino (F) = 196\n",
    "Masculino (M) = 92"
   ]
  },
  {
   "cell_type": "markdown",
   "id": "8964d90e",
   "metadata": {},
   "source": [
    "### Analisando a cor da pele do grupo de estudo:"
   ]
  },
  {
   "cell_type": "code",
   "execution_count": 11,
   "id": "23f4468c",
   "metadata": {},
   "outputs": [
    {
     "data": {
      "text/html": [
       "<div>\n",
       "<style scoped>\n",
       "    .dataframe tbody tr th:only-of-type {\n",
       "        vertical-align: middle;\n",
       "    }\n",
       "\n",
       "    .dataframe tbody tr th {\n",
       "        vertical-align: top;\n",
       "    }\n",
       "\n",
       "    .dataframe thead th {\n",
       "        text-align: right;\n",
       "    }\n",
       "</style>\n",
       "<table border=\"1\" class=\"dataframe\">\n",
       "  <thead>\n",
       "    <tr style=\"text-align: right;\">\n",
       "      <th>sk</th>\n",
       "      <th>0</th>\n",
       "      <th>1</th>\n",
       "      <th>2</th>\n",
       "      <th>3</th>\n",
       "    </tr>\n",
       "    <tr>\n",
       "      <th>sex</th>\n",
       "      <th></th>\n",
       "      <th></th>\n",
       "      <th></th>\n",
       "      <th></th>\n",
       "    </tr>\n",
       "  </thead>\n",
       "  <tbody>\n",
       "    <tr>\n",
       "      <th>F</th>\n",
       "      <td>85</td>\n",
       "      <td>53</td>\n",
       "      <td>37</td>\n",
       "      <td>19</td>\n",
       "    </tr>\n",
       "    <tr>\n",
       "      <th>M</th>\n",
       "      <td>42</td>\n",
       "      <td>22</td>\n",
       "      <td>21</td>\n",
       "      <td>6</td>\n",
       "    </tr>\n",
       "    <tr>\n",
       "      <th>f</th>\n",
       "      <td>0</td>\n",
       "      <td>2</td>\n",
       "      <td>0</td>\n",
       "      <td>0</td>\n",
       "    </tr>\n",
       "    <tr>\n",
       "      <th>m</th>\n",
       "      <td>0</td>\n",
       "      <td>0</td>\n",
       "      <td>0</td>\n",
       "      <td>1</td>\n",
       "    </tr>\n",
       "  </tbody>\n",
       "</table>\n",
       "</div>"
      ],
      "text/plain": [
       "sk    0   1   2   3\n",
       "sex                \n",
       "F    85  53  37  19\n",
       "M    42  22  21   6\n",
       "f     0   2   0   0\n",
       "m     0   0   0   1"
      ]
     },
     "execution_count": 11,
     "metadata": {},
     "output_type": "execute_result"
    }
   ],
   "source": [
    "frequencia = pd.crosstab(dados.sex, dados.sk)\n",
    "frequencia"
   ]
  },
  {
   "cell_type": "code",
   "execution_count": 12,
   "id": "208df5c0",
   "metadata": {},
   "outputs": [
    {
     "data": {
      "image/png": "[encoded data removed]",
      "text/plain": [
       "<Figure size 432x288 with 1 Axes>"
      ]
     },
     "metadata": {
      "needs_background": "light"
     },
     "output_type": "display_data"
    }
   ],
   "source": [
    "sns.histplot(dados['sk'], bins=30);"
   ]
  },
  {
   "cell_type": "markdown",
   "id": "7e1367c2",
   "metadata": {},
   "source": [
    "### Análise da cor da pele dos pacientes em relação ao sexo:"
   ]
  },
  {
   "cell_type": "markdown",
   "id": "d8d1e189",
   "metadata": {},
   "source": [
    "Em relação aos pacientes do sexo Feminino temos:\n",
    "- 85 na cor da pele 0\n",
    "- 55 na cor da pele 1\n",
    "- 37 na cor da pele 2\n",
    "- 19 na cor da pele 3\n",
    "\n",
    "Em relação aos pacientes do sexo Masculino temos:\n",
    "- 42 na cor da pele 0\n",
    "- 22 na cor da pele 1\n",
    "- 21 na cor da pele 2\n",
    "- 7 na cor da pele 3"
   ]
  },
  {
   "cell_type": "markdown",
   "id": "f9033617",
   "metadata": {},
   "source": [
    "### Analisando a cor do cabelo do grupo de estudo:"
   ]
  },
  {
   "cell_type": "code",
   "execution_count": 13,
   "id": "8c52afd7",
   "metadata": {},
   "outputs": [
    {
     "data": {
      "text/html": [
       "<div>\n",
       "<style scoped>\n",
       "    .dataframe tbody tr th:only-of-type {\n",
       "        vertical-align: middle;\n",
       "    }\n",
       "\n",
       "    .dataframe tbody tr th {\n",
       "        vertical-align: top;\n",
       "    }\n",
       "\n",
       "    .dataframe thead th {\n",
       "        text-align: right;\n",
       "    }\n",
       "</style>\n",
       "<table border=\"1\" class=\"dataframe\">\n",
       "  <thead>\n",
       "    <tr style=\"text-align: right;\">\n",
       "      <th>hc</th>\n",
       "      <th>0</th>\n",
       "      <th>1</th>\n",
       "      <th>2</th>\n",
       "    </tr>\n",
       "    <tr>\n",
       "      <th>sex</th>\n",
       "      <th></th>\n",
       "      <th></th>\n",
       "      <th></th>\n",
       "    </tr>\n",
       "  </thead>\n",
       "  <tbody>\n",
       "    <tr>\n",
       "      <th>F</th>\n",
       "      <td>120</td>\n",
       "      <td>54</td>\n",
       "      <td>20</td>\n",
       "    </tr>\n",
       "    <tr>\n",
       "      <th>M</th>\n",
       "      <td>24</td>\n",
       "      <td>61</td>\n",
       "      <td>6</td>\n",
       "    </tr>\n",
       "    <tr>\n",
       "      <th>f</th>\n",
       "      <td>1</td>\n",
       "      <td>1</td>\n",
       "      <td>0</td>\n",
       "    </tr>\n",
       "    <tr>\n",
       "      <th>m</th>\n",
       "      <td>0</td>\n",
       "      <td>1</td>\n",
       "      <td>0</td>\n",
       "    </tr>\n",
       "  </tbody>\n",
       "</table>\n",
       "</div>"
      ],
      "text/plain": [
       "hc     0   1   2\n",
       "sex             \n",
       "F    120  54  20\n",
       "M     24  61   6\n",
       "f      1   1   0\n",
       "m      0   1   0"
      ]
     },
     "execution_count": 13,
     "metadata": {},
     "output_type": "execute_result"
    }
   ],
   "source": [
    "cor_cabelo = pd.crosstab(dados.sex, dados.hc)\n",
    "cor_cabelo"
   ]
  },
  {
   "cell_type": "code",
   "execution_count": 14,
   "id": "64fd0f76",
   "metadata": {},
   "outputs": [
    {
     "data": {
      "image/png": "[encoded data removed]",
      "text/plain": [
       "<Figure size 432x288 with 1 Axes>"
      ]
     },
     "metadata": {
      "needs_background": "light"
     },
     "output_type": "display_data"
    }
   ],
   "source": [
    "sns.histplot(dados['hc'], bins=30);"
   ]
  },
  {
   "cell_type": "markdown",
   "id": "180c76a9",
   "metadata": {},
   "source": [
    "## Análise da cor do cabelo dos pacientes em relação ao sexo:"
   ]
  },
  {
   "cell_type": "markdown",
   "id": "81108162",
   "metadata": {},
   "source": [
    "Em relação aos pacientes do sexo Feminino temos:\n",
    "- 121 na cor do cabelo 0\n",
    "- 55 na cor do cabelo 1\n",
    "- 20 na cor do cabelo 2\n",
    "\n",
    "\n",
    "Em relação aos pacientes do sexo Masculino temos:\n",
    "- 24 na cor do cabelo 0\n",
    "- 62 na cor do cabelo 1\n",
    "- 6 na cor do cabelo 2\n"
   ]
  },
  {
   "cell_type": "code",
   "execution_count": 15,
   "id": "3c7b90f3",
   "metadata": {},
   "outputs": [
    {
     "data": {
      "text/html": [
       "<div>\n",
       "<style scoped>\n",
       "    .dataframe tbody tr th:only-of-type {\n",
       "        vertical-align: middle;\n",
       "    }\n",
       "\n",
       "    .dataframe tbody tr th {\n",
       "        vertical-align: top;\n",
       "    }\n",
       "\n",
       "    .dataframe thead th {\n",
       "        text-align: right;\n",
       "    }\n",
       "</style>\n",
       "<table border=\"1\" class=\"dataframe\">\n",
       "  <thead>\n",
       "    <tr style=\"text-align: right;\">\n",
       "      <th>fbs</th>\n",
       "      <th>0</th>\n",
       "      <th>1</th>\n",
       "    </tr>\n",
       "    <tr>\n",
       "      <th>sex</th>\n",
       "      <th></th>\n",
       "      <th></th>\n",
       "    </tr>\n",
       "  </thead>\n",
       "  <tbody>\n",
       "    <tr>\n",
       "      <th>F</th>\n",
       "      <td>164</td>\n",
       "      <td>30</td>\n",
       "    </tr>\n",
       "    <tr>\n",
       "      <th>M</th>\n",
       "      <td>79</td>\n",
       "      <td>12</td>\n",
       "    </tr>\n",
       "    <tr>\n",
       "      <th>f</th>\n",
       "      <td>2</td>\n",
       "      <td>0</td>\n",
       "    </tr>\n",
       "    <tr>\n",
       "      <th>m</th>\n",
       "      <td>1</td>\n",
       "      <td>0</td>\n",
       "    </tr>\n",
       "  </tbody>\n",
       "</table>\n",
       "</div>"
      ],
      "text/plain": [
       "fbs    0   1\n",
       "sex         \n",
       "F    164  30\n",
       "M     79  12\n",
       "f      2   0\n",
       "m      1   0"
      ]
     },
     "execution_count": 15,
     "metadata": {},
     "output_type": "execute_result"
    }
   ],
   "source": [
    "glicose = pd.crosstab(dados.sex, dados.fbs)\n",
    "glicose"
   ]
  },
  {
   "cell_type": "markdown",
   "id": "374541d5",
   "metadata": {},
   "source": [
    "## Análise da glicemia de jejum dos pacientes em relação ao sexo:"
   ]
  },
  {
   "cell_type": "markdown",
   "id": "3781ed7d",
   "metadata": {},
   "source": [
    "Em relação aos pacientes do sexo Feminino temos:\n",
    "\n",
    "- 166 apresentam glicemia igual ou abaixo de 120 mg/dl em jejum\n",
    "- 30 apresentam glicemia acima de 120 mg/dl em jejum\n",
    "\n",
    "Em relação aos pacientes do sexo Masculino temos:\n",
    "\n",
    "- 80 pacientes apresentam glicemia igual ou abaixo de 120 mg/dl em jejum\n",
    "- 12 pacientes apresentam glicemia acima de 120 mg/dl em jejum"
   ]
  },
  {
   "cell_type": "code",
   "execution_count": null,
   "id": "5d219855",
   "metadata": {},
   "outputs": [],
   "source": []
  }
 ],
 "metadata": {
  "kernelspec": {
   "display_name": "Python 3 (ipykernel)",
   "language": "python",
   "name": "python3"
  },
  "language_info": {
   "codemirror_mode": {
    "name": "ipython",
    "version": 3
   },
   "file_extension": ".py",
   "mimetype": "text/x-python",
   "name": "python",
   "nbconvert_exporter": "python",
   "pygments_lexer": "ipython3",
   "version": "3.9.12"
  }
 },
 "nbformat": 4,
 "nbformat_minor": 5
}
